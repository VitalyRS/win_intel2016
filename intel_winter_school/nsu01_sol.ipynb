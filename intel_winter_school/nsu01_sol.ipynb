{
 "cells": [
  {
   "cell_type": "markdown",
   "metadata": {},
   "source": [
    "#Data Preprocessing"
   ]
  },
  {
   "cell_type": "code",
   "execution_count": 1,
   "metadata": {
    "collapsed": true
   },
   "outputs": [],
   "source": [
    "import numpy as np\n",
    "import pandas as pd"
   ]
  },
  {
   "cell_type": "code",
   "execution_count": 19,
   "metadata": {
    "collapsed": false
   },
   "outputs": [
    {
     "data": {
      "text/plain": [
       "array([[0, 0, 1, 0, 1]])"
      ]
     },
     "execution_count": 19,
     "metadata": {},
     "output_type": "execute_result"
    }
   ],
   "source": [
    "from sklearn.preprocessing import Binarizer\n",
    "bin=Binarizer(threshold=2, copy=True)\n",
    "bin.transform([0,2,3,0,7])"
   ]
  },
  {
   "cell_type": "code",
   "execution_count": 33,
   "metadata": {
    "collapsed": false
   },
   "outputs": [
    {
     "name": "stdout",
     "output_type": "stream",
     "text": [
      "[1 2 4 6]\n",
      "[[1 0 0 0]\n",
      " [0 0 0 1]]\n",
      "['nein' 'no' 'yes']\n",
      "[[0 1 0]\n",
      " [0 0 1]]\n"
     ]
    }
   ],
   "source": [
    "from sklearn.preprocessing import LabelBinarizer\n",
    "clf = preprocessing.LabelBinarizer()\n",
    "clf.fit([1, 2, 6, 4, 2])\n",
    "LabelBinarizer(neg_label=0, pos_label=1)\n",
    "print clf.classes_\n",
    "print clf.transform([1, 6])\n",
    "clf.fit(['yes','yes','no','yes','nein'])\n",
    "print clf.classes_\n",
    "print clf.transform(['no', 'yes'])"
   ]
  },
  {
   "cell_type": "code",
   "execution_count": 45,
   "metadata": {
    "collapsed": false
   },
   "outputs": [
    {
     "name": "stdout",
     "output_type": "stream",
     "text": [
      "[ 0.          0.10526316  0.26315789]\n"
     ]
    }
   ],
   "source": [
    "from sklearn.preprocessing import MinMaxScaler\n",
    "mx=MinMaxScaler()\n",
    "mx.fit([1.0,20,6.0])\n",
    "print mx.transform([1.0,3.0,6.0])"
   ]
  },
  {
   "cell_type": "code",
   "execution_count": 9,
   "metadata": {
    "collapsed": false
   },
   "outputs": [
    {
     "data": {
      "text/plain": [
       "array([[ 0.40824829, -0.40824829,  0.81649658],\n",
       "       [ 1.        ,  0.        ,  0.        ],\n",
       "       [ 0.        ,  0.70710678, -0.70710678]])"
      ]
     },
     "execution_count": 9,
     "metadata": {},
     "output_type": "execute_result"
    }
   ],
   "source": [
    "from sklearn.preprocessing import Normalizer\n",
    "nrm=Normalizer( norm='l2')\n",
    "X = [[ 1., -1.,  2.],\n",
    "      [ 2.,  0.,  0.],\n",
    "      [ 0.,  1., -1.]]\n",
    "nrm.transform(X)"
   ]
  },
  {
   "cell_type": "code",
   "execution_count": 67,
   "metadata": {
    "collapsed": false
   },
   "outputs": [
    {
     "name": "stdout",
     "output_type": "stream",
     "text": [
      "[[0, 1, 2, 3]]\n",
      "[[ 1.  1.  1.  1.]]\n",
      "[[ 1.  1.  0.  0.]]\n",
      "[[ 1.  1.  1.  0.]]\n",
      "[[ 1.  1.  1.  1.]]\n"
     ]
    }
   ],
   "source": [
    "from sklearn.preprocessing import OneHotEncoder\n",
    "enc = OneHotEncoder()\n",
    "#X=[[0, 0, 3], [1, 1, 0], [0, 2, 1], [1, 0, 2]]\n",
    "X=[[0, 1, 2,3]]\n",
    "print X\n",
    "enc.fit(X)  \n",
    "print enc.transform([[0,1,2,3]]).toarray()\n",
    "print enc.transform([[0,1,0,1]]).toarray()\n",
    "print enc.transform([[0,1,2,0]]).toarray()\n",
    "print enc.transform([[0,1,2,3]]).toarray()\n",
    "#print enc.transform([[0,1,2,1],[0,1,2,1]]).toarray()\n",
    "#X : array-like, shape [n_samples, n_feature]"
   ]
  },
  {
   "cell_type": "code",
   "execution_count": 78,
   "metadata": {
    "collapsed": false
   },
   "outputs": [
    {
     "name": "stdout",
     "output_type": "stream",
     "text": [
      "[-1.5 -1.  -0.5  0.   0.5  1.   1.5]\n"
     ]
    }
   ],
   "source": [
    "from sklearn.preprocessing import StandardScaler\n",
    "X=np.array([0,1,2,3,4,5,6])\n",
    "X = StandardScaler().fit_transform(X)\n",
    "print X\n",
    "#Standardize features by removing the mean and scaling to unit variance"
   ]
  },
  {
   "cell_type": "code",
   "execution_count": 121,
   "metadata": {
    "collapsed": false
   },
   "outputs": [
    {
     "name": "stdout",
     "output_type": "stream",
     "text": [
      "['setosa' 'versicolor' 'virginica']\n"
     ]
    }
   ],
   "source": [
    "from sklearn.datasets import load_iris\n",
    "iris_data = load_iris()\n",
    "X, y = iris_data.data, iris_data.target\n",
    "print iris_data.target_names"
   ]
  },
  {
   "cell_type": "code",
   "execution_count": 135,
   "metadata": {
    "collapsed": true
   },
   "outputs": [],
   "source": [
    "from sklearn.cross_validation import train_test_split\n",
    "X_train, X_test, y_train, y_test = train_test_split(\n",
    "     X, y, test_size=0.33, random_state=42)\n",
    "\n"
   ]
  },
  {
   "cell_type": "markdown",
   "metadata": {},
   "source": [
    "#Decomposition"
   ]
  },
  {
   "cell_type": "code",
   "execution_count": 120,
   "metadata": {
    "collapsed": false
   },
   "outputs": [
    {
     "name": "stdout",
     "output_type": "stream",
     "text": [
      "(150L, 4L)\n",
      "(150L, 2L)\n"
     ]
    }
   ],
   "source": [
    "from sklearn.decomposition import PCA\n",
    "pca = PCA(n_components=2)\n",
    "X_reduced = pca.fit_transform(X)\n",
    "print X.shape\n",
    "print X_reduced.shape"
   ]
  },
  {
   "cell_type": "code",
   "execution_count": 119,
   "metadata": {
    "collapsed": false
   },
   "outputs": [
    {
     "name": "stdout",
     "output_type": "stream",
     "text": [
      "(150L, 2L)\n"
     ]
    }
   ],
   "source": [
    "from sklearn.decomposition import  FastICA\n",
    "ica = FastICA(n_components=2,random_state=123)\n",
    "X_reduced = ica.fit(X).transform(X) \n",
    "print X_reduced.shape"
   ]
  },
  {
   "cell_type": "markdown",
   "metadata": {},
   "source": [
    "#matplot lib"
   ]
  },
  {
   "cell_type": "code",
   "execution_count": 131,
   "metadata": {
    "collapsed": false
   },
   "outputs": [
    {
     "name": "stdout",
     "output_type": "stream",
     "text": [
      "Populating the interactive namespace from numpy and matplotlib\n"
     ]
    },
    {
     "data": {
      "text/plain": [
       "(array([ 34.,  14.,   2.,   0.,   7.,   8.,  21.,  16.,  14.,  11.,   9.,\n",
       "         14.]),\n",
       " array([ 0.1,  0.3,  0.5,  0.7,  0.9,  1.1,  1.3,  1.5,  1.7,  1.9,  2.1,\n",
       "         2.3,  2.5]),\n",
       " <a list of 12 Patch objects>)"
      ]
     },
     "execution_count": 131,
     "metadata": {},
     "output_type": "execute_result"
    },
    {
     "data": {
      "image/png": "[encoded data removed]",
      "text/plain": [
       "<matplotlib.figure.Figure at 0x18c0ec50>"
      ]
     },
     "metadata": {},
     "output_type": "display_data"
    },
    {
     "data": {
      "image/png": "[encoded data removed]",
      "text/plain": [
       "<matplotlib.figure.Figure at 0x198535c0>"
      ]
     },
     "metadata": {},
     "output_type": "display_data"
    }
   ],
   "source": [
    "import matplotlib.pyplot as plt\n",
    "%pylab inline\n",
    "plt.figure()\n",
    "plt.grid()\n",
    "plt.plot(X[:,0],X[:,1],'o')\n",
    "plt.figure()\n",
    "plt.grid()\n",
    "plt.hist(X[:,0],12)\n",
    "plt.hist(X[:,1],12)\n",
    "plt.hist(X[:,2],12)\n",
    "plt.hist(X[:,3],12)"
   ]
  },
  {
   "cell_type": "markdown",
   "metadata": {},
   "source": [
    "#Supervised Learning"
   ]
  },
  {
   "cell_type": "code",
   "execution_count": 15,
   "metadata": {
    "collapsed": false
   },
   "outputs": [
    {
     "name": "stdout",
     "output_type": "stream",
     "text": [
      "             precision    recall  f1-score   support\n",
      "\n",
      "       -1.0       1.00      0.60      0.75        10\n",
      "        1.0       0.78      1.00      0.88        14\n",
      "\n",
      "avg / total       0.87      0.83      0.82        24\n",
      "\n",
      "             precision    recall  f1-score   support\n",
      "\n",
      "       -1.0       0.83      1.00      0.91        10\n",
      "        1.0       1.00      0.86      0.92        14\n",
      "\n",
      "avg / total       0.93      0.92      0.92        24\n",
      "\n",
      "             precision    recall  f1-score   support\n",
      "\n",
      "       -1.0       1.00      0.50      0.67        10\n",
      "        1.0       0.74      1.00      0.85        14\n",
      "\n",
      "avg / total       0.85      0.79      0.77        24\n",
      "\n",
      "             precision    recall  f1-score   support\n",
      "\n",
      "       -1.0       1.00      0.80      0.89        10\n",
      "        1.0       0.88      1.00      0.93        14\n",
      "\n",
      "avg / total       0.93      0.92      0.91        24\n",
      "\n",
      "             precision    recall  f1-score   support\n",
      "\n",
      "       -1.0       1.00      1.00      1.00        10\n",
      "        1.0       1.00      1.00      1.00        14\n",
      "\n",
      "avg / total       1.00      1.00      1.00        24\n",
      "\n"
     ]
    }
   ],
   "source": [
    "from sklearn.neighbors import KNeighborsClassifier\n",
    "from sklearn.svm import SVC\n",
    "from sklearn.tree import DecisionTreeClassifier\n",
    "from sklearn.ensemble import RandomForestClassifier, AdaBoostClassifier\n",
    "from sklearn.naive_bayes import GaussianNB\n",
    "from sklearn.metrics import classification_report\n",
    "\n",
    "knn = KNeighborsClassifier(n_neighbors=3)\n",
    "dtree = DecisionTreeClassifier(max_depth=3)\n",
    "svc=SVC()\n",
    "rdm=RandomForestClassifier()\n",
    "ada=AdaBoostClassifier()\n",
    "\n",
    "knn.fit(X_train, y_train) #обучили\n",
    "y_pred_s= knn.predict(X_test)\n",
    "print(classification_report(y_test, y_pred_s))\n",
    "\n",
    "dtree.fit(X_train, y_train) #обучили\n",
    "y_pred_s= dtree.predict(X_test)\n",
    "print(classification_report(y_test, y_pred_s))\n",
    "\n",
    "svc.fit(X_train, y_train) #обучили\n",
    "y_pred_s= svc.predict(X_test)\n",
    "print(classification_report(y_test, y_pred_s))\n",
    "\n",
    "rdm.fit(X_train, y_train) #обучили\n",
    "y_pred_s= rdm.predict(X_test)\n",
    "print(classification_report(y_test, y_pred_s))\n",
    "\n",
    "ada.fit(X_train, y_train) #обучили\n",
    "y_pred_s= ada.predict(X_test)\n",
    "print(classification_report(y_test, y_pred_s))\n",
    "    \n"
   ]
  },
  {
   "cell_type": "markdown",
   "metadata": {},
   "source": [
    "#Grid Search"
   ]
  },
  {
   "cell_type": "code",
   "execution_count": 142,
   "metadata": {
    "collapsed": false
   },
   "outputs": [
    {
     "name": "stdout",
     "output_type": "stream",
     "text": [
      "0.986666666667\n",
      "{'n_neighbors': 5, 'weights': 'uniform', 'algorithm': 'ball_tree', 'p': 2}\n"
     ]
    }
   ],
   "source": [
    "from sklearn import  grid_search\n",
    "parameters = {'n_neighbors':[3,5,20],'weights':('uniform','distance'),\n",
    "              'algorithm':('ball_tree','kd_tree','brute'), 'p':[1,2,3]}\n",
    "model = KNeighborsClassifier()\n",
    "grid = grid_search.GridSearchCV(model, param_grid=parameters,scoring='accuracy')\n",
    "grid.fit(X, y)\n",
    "# summarize the results of the grid search\n",
    "print(grid.best_score_)\n",
    "print(grid.best_params_)"
   ]
  },
  {
   "cell_type": "markdown",
   "metadata": {},
   "source": [
    "#Cross Validation"
   ]
  },
  {
   "cell_type": "code",
   "execution_count": 145,
   "metadata": {
    "collapsed": false
   },
   "outputs": [
    {
     "name": "stdout",
     "output_type": "stream",
     "text": [
      "0.96\n",
      "0.0442216638714\n"
     ]
    }
   ],
   "source": [
    "from sklearn.cross_validation import cross_val_score\n",
    "from sklearn.cross_validation import KFold\n",
    "X=X\n",
    "y=y\n",
    "cv = KFold(n=len(y), n_folds=10, shuffle=True, random_state=123)\n",
    "\n",
    "clf = KNeighborsClassifier(n_neighbors=5,weights='uniform', algorithm='ball_tree', p=1)\n",
    "mae_folds = cross_val_score(clf, X, y, cv=cv, scoring='accuracy')\n",
    "print mae_folds.mean()\n",
    "print mae_folds.std()\n"
   ]
  },
  {
   "cell_type": "code",
   "execution_count": 147,
   "metadata": {
    "collapsed": false
   },
   "outputs": [
    {
     "name": "stdout",
     "output_type": "stream",
     "text": [
      "0.973333333333\n",
      "0.0326598632371\n"
     ]
    }
   ],
   "source": [
    "from sklearn.cross_validation import cross_val_score\n",
    "from sklearn.cross_validation import KFold\n",
    "X=X\n",
    "y=y\n",
    "cv = KFold(n=len(y), n_folds=10, shuffle=True, random_state=123)\n",
    "clf = svc\n",
    "mae_folds = cross_val_score(clf, X, y, cv=cv, scoring='accuracy')\n",
    "print mae_folds.mean()\n",
    "print mae_folds.std()\n"
   ]
  },
  {
   "cell_type": "code",
   "execution_count": 148,
   "metadata": {
    "collapsed": false
   },
   "outputs": [
    {
     "name": "stdout",
     "output_type": "stream",
     "text": [
      "0.933333333333\n",
      "0.0516397779494\n"
     ]
    }
   ],
   "source": [
    "from sklearn.cross_validation import cross_val_score\n",
    "from sklearn.cross_validation import KFold\n",
    "X=X\n",
    "y=y\n",
    "cv = KFold(n=len(y), n_folds=10, shuffle=True, random_state=123)\n",
    "clf = ada\n",
    "mae_folds = cross_val_score(clf, X, y, cv=cv, scoring='accuracy')\n",
    "print mae_folds.mean()\n",
    "print mae_folds.std()\n"
   ]
  },
  {
   "cell_type": "code",
   "execution_count": 5,
   "metadata": {
    "collapsed": false
   },
   "outputs": [],
   "source": [
    "from sklearn.cross_validation import train_test_split\n",
    "bd=pd.read_csv('leuk.csv',sep='\\t')\n",
    "#X_train, X_test, y_train, y_test = train_test_split(\n",
    "#     X, y, test_size=0.33, random_state=42)"
   ]
  },
  {
   "cell_type": "code",
   "execution_count": 12,
   "metadata": {
    "collapsed": false
   },
   "outputs": [],
   "source": [
    "X=bd.values[:,1:7131-2]\n",
    "y=bd.values[:,7131-1]"
   ]
  },
  {
   "cell_type": "code",
   "execution_count": 20,
   "metadata": {
    "collapsed": false
   },
   "outputs": [],
   "source": [
    "from sklearn.preprocessing import StandardScaler\n",
    "X = StandardScaler().fit_transform(X)"
   ]
  },
  {
   "cell_type": "code",
   "execution_count": 21,
   "metadata": {
    "collapsed": true
   },
   "outputs": [],
   "source": [
    "X_train, X_test, y_train, y_test = train_test_split(\n",
    "     X, y, test_size=0.33, random_state=42)"
   ]
  },
  {
   "cell_type": "code",
   "execution_count": 22,
   "metadata": {
    "collapsed": false
   },
   "outputs": [
    {
     "name": "stdout",
     "output_type": "stream",
     "text": [
      "             precision    recall  f1-score   support\n",
      "\n",
      "       -1.0       1.00      0.60      0.75        10\n",
      "        1.0       0.78      1.00      0.88        14\n",
      "\n",
      "avg / total       0.87      0.83      0.82        24\n",
      "\n",
      "             precision    recall  f1-score   support\n",
      "\n",
      "       -1.0       0.77      1.00      0.87        10\n",
      "        1.0       1.00      0.79      0.88        14\n",
      "\n",
      "avg / total       0.90      0.88      0.88        24\n",
      "\n",
      "             precision    recall  f1-score   support\n",
      "\n",
      "       -1.0       1.00      0.50      0.67        10\n",
      "        1.0       0.74      1.00      0.85        14\n",
      "\n",
      "avg / total       0.85      0.79      0.77        24\n",
      "\n",
      "             precision    recall  f1-score   support\n",
      "\n",
      "       -1.0       0.90      0.90      0.90        10\n",
      "        1.0       0.93      0.93      0.93        14\n",
      "\n",
      "avg / total       0.92      0.92      0.92        24\n",
      "\n",
      "             precision    recall  f1-score   support\n",
      "\n",
      "       -1.0       1.00      1.00      1.00        10\n",
      "        1.0       1.00      1.00      1.00        14\n",
      "\n",
      "avg / total       1.00      1.00      1.00        24\n",
      "\n"
     ]
    }
   ],
   "source": [
    "from sklearn.neighbors import KNeighborsClassifier\n",
    "from sklearn.svm import SVC\n",
    "from sklearn.tree import DecisionTreeClassifier\n",
    "from sklearn.ensemble import RandomForestClassifier, AdaBoostClassifier\n",
    "from sklearn.naive_bayes import GaussianNB\n",
    "from sklearn.metrics import classification_report\n",
    "\n",
    "knn = KNeighborsClassifier(n_neighbors=3)\n",
    "dtree = DecisionTreeClassifier(max_depth=3)\n",
    "svc=SVC()\n",
    "rdm=RandomForestClassifier()\n",
    "ada=AdaBoostClassifier()\n",
    "\n",
    "knn.fit(X_train, y_train) #обучили\n",
    "y_pred_s= knn.predict(X_test)\n",
    "print(classification_report(y_test, y_pred_s))\n",
    "\n",
    "dtree.fit(X_train, y_train) #обучили\n",
    "y_pred_s= dtree.predict(X_test)\n",
    "print(classification_report(y_test, y_pred_s))\n",
    "\n",
    "svc.fit(X_train, y_train) #обучили\n",
    "y_pred_s= svc.predict(X_test)\n",
    "print(classification_report(y_test, y_pred_s))\n",
    "\n",
    "rdm.fit(X_train, y_train) #обучили\n",
    "y_pred_s= rdm.predict(X_test)\n",
    "print(classification_report(y_test, y_pred_s))\n",
    "\n",
    "ada.fit(X_train, y_train) #обучили\n",
    "y_pred_s= ada.predict(X_test)\n",
    "print(classification_report(y_test, y_pred_s))\n",
    "    \n"
   ]
  },
  {
   "cell_type": "code",
   "execution_count": 18,
   "metadata": {
    "collapsed": false
   },
   "outputs": [
    {
     "name": "stdout",
     "output_type": "stream",
     "text": [
      "0.833333333333\n",
      "{'n_neighbors': 3, 'weights': 'uniform', 'algorithm': 'ball_tree', 'p': 3}\n"
     ]
    }
   ],
   "source": [
    "from sklearn import  grid_search\n",
    "parameters = {'n_neighbors':[3,5,20],'weights':('uniform','distance'),\n",
    "              'algorithm':('ball_tree','kd_tree','brute'), 'p':[1,2,3]}\n",
    "model = KNeighborsClassifier()\n",
    "grid = grid_search.GridSearchCV(model, param_grid=parameters,scoring='accuracy')\n",
    "grid.fit(X, y)\n",
    "# summarize the results of the grid search\n",
    "print(grid.best_score_)\n",
    "print(grid.best_params_)"
   ]
  }
 ],
 "metadata": {
  "kernelspec": {
   "display_name": "Python 2",
   "language": "python",
   "name": "python2"
  },
  "language_info": {
   "codemirror_mode": {
    "name": "ipython",
    "version": 2
   },
   "file_extension": ".py",
   "mimetype": "text/x-python",
   "name": "python",
   "nbconvert_exporter": "python",
   "pygments_lexer": "ipython2",
   "version": "2.7.10"
  }
 },
 "nbformat": 4,
 "nbformat_minor": 0
}

{
 "cells": [
  {
   "cell_type": "markdown",
   "metadata": {},
   "source": [
    "#Data Preprocessing"
   ]
  },
  {
   "cell_type": "code",
   "execution_count": 25,
   "metadata": {
    "collapsed": true
   },
   "outputs": [],
   "source": [
    "import numpy as np "
   ]
  },
  {
   "cell_type": "code",
   "execution_count": 2,
   "metadata": {
    "collapsed": false
   },
   "outputs": [
    {
     "data": {
      "text/plain": [
       "array([[0, 0, 1, 0, 1]])"
      ]
     },
     "execution_count": 2,
     "metadata": {},
     "output_type": "execute_result"
    }
   ],
   "source": [
    "from sklearn.preprocessing import Binarizer\n",
    "bin=Binarizer(threshold=2, copy=True)\n",
    "bin.transform([0,2,3,0,7])"
   ]
  },
  {
   "cell_type": "code",
   "execution_count": 3,
   "metadata": {
    "collapsed": false
   },
   "outputs": [
    {
     "name": "stdout",
     "output_type": "stream",
     "text": [
      "[1 2 4 6]\n",
      "[[1 0 0 0]\n",
      " [0 0 0 1]]\n",
      "['nein' 'no' 'yes']\n",
      "[[0 1 0]\n",
      " [0 0 1]]\n"
     ]
    }
   ],
   "source": [
    "from sklearn.preprocessing import LabelBinarizer\n",
    "clf = LabelBinarizer()\n",
    "clf.fit([1, 2, 6, 4, 2])\n",
    "LabelBinarizer(neg_label=0, pos_label=1)\n",
    "print clf.classes_\n",
    "print clf.transform([1, 6])\n",
    "clf.fit(['yes','yes','no','yes','nein'])\n",
    "print clf.classes_\n",
    "print clf.transform(['no', 'yes'])"
   ]
  },
  {
   "cell_type": "code",
   "execution_count": 4,
   "metadata": {
    "collapsed": false
   },
   "outputs": [
    {
     "name": "stdout",
     "output_type": "stream",
     "text": [
      "[ 0.          0.10526316  0.26315789]\n"
     ]
    }
   ],
   "source": [
    "from sklearn.preprocessing import MinMaxScaler\n",
    "mx=MinMaxScaler()\n",
    "mx.fit([1.0,20,6.0])\n",
    "print mx.transform([1.0,3.0,6.0])"
   ]
  },
  {
   "cell_type": "code",
   "execution_count": 5,
   "metadata": {
    "collapsed": false
   },
   "outputs": [
    {
     "data": {
      "text/plain": [
       "array([[ 0.40824829, -0.40824829,  0.81649658],\n",
       "       [ 1.        ,  0.        ,  0.        ],\n",
       "       [ 0.        ,  0.70710678, -0.70710678]])"
      ]
     },
     "execution_count": 5,
     "metadata": {},
     "output_type": "execute_result"
    }
   ],
   "source": [
    "from sklearn.preprocessing import Normalizer\n",
    "nrm=Normalizer( norm='l2')\n",
    "X = [[ 1., -1.,  2.],\n",
    "      [ 2.,  0.,  0.],\n",
    "      [ 0.,  1., -1.]]\n",
    "nrm.transform(X)"
   ]
  },
  {
   "cell_type": "code",
   "execution_count": 6,
   "metadata": {
    "collapsed": false
   },
   "outputs": [
    {
     "name": "stdout",
     "output_type": "stream",
     "text": [
      "[[0, 1, 2, 3]]\n",
      "[[ 1.  1.  1.  1.]]\n",
      "[[ 1.  1.  0.  0.]]\n",
      "[[ 1.  1.  1.  0.]]\n",
      "[[ 1.  1.  1.  1.]]\n"
     ]
    }
   ],
   "source": [
    "from sklearn.preprocessing import OneHotEncoder\n",
    "enc = OneHotEncoder()\n",
    "#X=[[0, 0, 3], [1, 1, 0], [0, 2, 1], [1, 0, 2]]\n",
    "X=[[0, 1, 2,3]]\n",
    "print X\n",
    "enc.fit(X)  \n",
    "print enc.transform([[0,1,2,3]]).toarray()\n",
    "print enc.transform([[0,1,0,1]]).toarray()\n",
    "print enc.transform([[0,1,2,0]]).toarray()\n",
    "print enc.transform([[0,1,2,3]]).toarray()\n",
    "#print enc.transform([[0,1,2,1],[0,1,2,1]]).toarray()\n",
    "#X : array-like, shape [n_samples, n_feature]"
   ]
  },
  {
   "cell_type": "code",
   "execution_count": 7,
   "metadata": {
    "collapsed": false
   },
   "outputs": [
    {
     "name": "stdout",
     "output_type": "stream",
     "text": [
      "[-1.5 -1.  -0.5  0.   0.5  1.   1.5]\n"
     ]
    }
   ],
   "source": [
    "from sklearn.preprocessing import StandardScaler\n",
    "X=np.array([0,1,2,3,4,5,6.0])\n",
    "X = StandardScaler().fit_transform(X)\n",
    "print X\n",
    "#Standardize features by removing the mean and scaling to unit variance"
   ]
  },
  {
   "cell_type": "code",
   "execution_count": 26,
   "metadata": {
    "collapsed": false
   },
   "outputs": [
    {
     "name": "stdout",
     "output_type": "stream",
     "text": [
      "['setosa' 'versicolor' 'virginica']\n"
     ]
    }
   ],
   "source": [
    "from sklearn.datasets import load_iris\n",
    "iris_data = load_iris()\n",
    "X, y = iris_data.data, iris_data.target\n",
    "print iris_data.target_names"
   ]
  },
  {
   "cell_type": "code",
   "execution_count": 3,
   "metadata": {
    "collapsed": false
   },
   "outputs": [
    {
     "data": {
      "text/plain": [
       "array([[ 5.1,  3.5,  1.4,  0.2],\n",
       "       [ 4.9,  3. ,  1.4,  0.2],\n",
       "       [ 4.7,  3.2,  1.3,  0.2],\n",
       "       [ 4.6,  3.1,  1.5,  0.2],\n",
       "       [ 5. ,  3.6,  1.4,  0.2],\n",
       "       [ 5.4,  3.9,  1.7,  0.4],\n",
       "       [ 4.6,  3.4,  1.4,  0.3],\n",
       "       [ 5. ,  3.4,  1.5,  0.2],\n",
       "       [ 4.4,  2.9,  1.4,  0.2],\n",
       "       [ 4.9,  3.1,  1.5,  0.1]])"
      ]
     },
     "execution_count": 3,
     "metadata": {},
     "output_type": "execute_result"
    }
   ],
   "source": [
    "X[:10]"
   ]
  },
  {
   "cell_type": "code",
   "execution_count": 3,
   "metadata": {
    "collapsed": false
   },
   "outputs": [
    {
     "data": {
      "text/plain": [
       "array([0, 0, 0, 0, 0, 0, 0, 0, 0, 0, 0, 0, 0, 0, 0, 0, 0, 0, 0, 0, 0, 0, 0,\n",
       "       0, 0, 0, 0, 0, 0, 0, 0, 0, 0, 0, 0, 0, 0, 0, 0, 0, 0, 0, 0, 0, 0, 0,\n",
       "       0, 0, 0, 0, 1, 1, 1, 1, 1, 1, 1, 1, 1, 1, 1, 1, 1, 1, 1, 1, 1, 1, 1,\n",
       "       1, 1, 1, 1, 1, 1, 1, 1, 1, 1, 1, 1, 1, 1, 1, 1, 1, 1, 1, 1, 1, 1, 1,\n",
       "       1, 1, 1, 1, 1, 1, 1, 1, 2, 2, 2, 2, 2, 2, 2, 2, 2, 2, 2, 2, 2, 2, 2,\n",
       "       2, 2, 2, 2, 2, 2, 2, 2, 2, 2, 2, 2, 2, 2, 2, 2, 2, 2, 2, 2, 2, 2, 2,\n",
       "       2, 2, 2, 2, 2, 2, 2, 2, 2, 2, 2, 2])"
      ]
     },
     "execution_count": 3,
     "metadata": {},
     "output_type": "execute_result"
    }
   ],
   "source": [
    "y"
   ]
  },
  {
   "cell_type": "code",
   "execution_count": 27,
   "metadata": {
    "collapsed": true
   },
   "outputs": [],
   "source": [
    "from sklearn.cross_validation import train_test_split\n",
    "X_train, X_test, y_train, y_test = train_test_split(\n",
    "     X, y, test_size=0.33, random_state=42)\n",
    "\n"
   ]
  },
  {
   "cell_type": "code",
   "execution_count": 13,
   "metadata": {
    "collapsed": false
   },
   "outputs": [
    {
     "name": "stdout",
     "output_type": "stream",
     "text": [
      "[0 0 0 0 0 0 0 0 0 0]\n",
      "[2 2 2 2 2 2 2 2 2 2]\n",
      "[1 2 1 0 2 1 0 0 0 1]\n"
     ]
    }
   ],
   "source": [
    "print y[:10]\n",
    "print y[-10:]\n",
    "print y_train[:10]\n"
   ]
  },
  {
   "cell_type": "markdown",
   "metadata": {},
   "source": [
    "#Decomposition"
   ]
  },
  {
   "cell_type": "code",
   "execution_count": 120,
   "metadata": {
    "collapsed": false
   },
   "outputs": [
    {
     "name": "stdout",
     "output_type": "stream",
     "text": [
      "(150L, 4L)\n",
      "(150L, 2L)\n"
     ]
    }
   ],
   "source": [
    "from sklearn.decomposition import PCA\n",
    "pca = PCA(n_components=2)\n",
    "X_reduced = pca.fit_transform(X)\n",
    "print X.shape\n",
    "print X_reduced.shape"
   ]
  },
  {
   "cell_type": "code",
   "execution_count": 119,
   "metadata": {
    "collapsed": false
   },
   "outputs": [
    {
     "name": "stdout",
     "output_type": "stream",
     "text": [
      "(150L, 2L)\n"
     ]
    }
   ],
   "source": [
    "from sklearn.decomposition import  FastICA\n",
    "ica = FastICA(n_components=2,random_state=123)\n",
    "X_reduced = ica.fit(X).transform(X) \n",
    "print X_reduced.shape"
   ]
  },
  {
   "cell_type": "markdown",
   "metadata": {},
   "source": [
    "#matplot lib"
   ]
  },
  {
   "cell_type": "code",
   "execution_count": 32,
   "metadata": {
    "collapsed": false
   },
   "outputs": [
    {
     "name": "stdout",
     "output_type": "stream",
     "text": [
      "Populating the interactive namespace from numpy and matplotlib\n"
     ]
    },
    {
     "name": "stderr",
     "output_type": "stream",
     "text": [
      "WARNING: pylab import has clobbered these variables: ['indices', 'f']\n",
      "`%matplotlib` prevents importing * from pylab and numpy\n"
     ]
    },
    {
     "data": {
      "text/plain": [
       "(array([  1.,   2.,   1.,   1.,  11.,   5.,   6.,   6.,   3.,   8.,   3.,\n",
       "          3.]),\n",
       " array([ 1.4       ,  1.49166667,  1.58333333,  1.675     ,  1.76666667,\n",
       "         1.85833333,  1.95      ,  2.04166667,  2.13333333,  2.225     ,\n",
       "         2.31666667,  2.40833333,  2.5       ]),\n",
       " <a list of 12 Patch objects>)"
      ]
     },
     "execution_count": 32,
     "metadata": {},
     "output_type": "execute_result"
    },
    {
     "data": {
      "image/png": "[encoded data removed]",
      "text/plain": [
       "<matplotlib.figure.Figure at 0xae867b8>"
      ]
     },
     "metadata": {},
     "output_type": "display_data"
    },
    {
     "data": {
      "image/png": "[encoded data removed]",
      "text/plain": [
       "<matplotlib.figure.Figure at 0x20ad8940>"
      ]
     },
     "metadata": {},
     "output_type": "display_data"
    },
    {
     "data": {
      "image/png": "[encoded data removed]",
      "text/plain": [
       "<matplotlib.figure.Figure at 0x20bae208>"
      ]
     },
     "metadata": {},
     "output_type": "display_data"
    },
    {
     "data": {
      "image/png": "[encoded data removed]",
      "text/plain": [
       "<matplotlib.figure.Figure at 0x20de51d0>"
      ]
     },
     "metadata": {},
     "output_type": "display_data"
    },
    {
     "data": {
      "image/png": "[encoded data removed]",
      "text/plain": [
       "<matplotlib.figure.Figure at 0x20fbbb00>"
      ]
     },
     "metadata": {},
     "output_type": "display_data"
    }
   ],
   "source": [
    "import matplotlib.pyplot as plt\n",
    "%pylab inline\n",
    "plt.figure()\n",
    "plt.grid()\n",
    "plt.plot(X[:,0],X[:,1],'o')\n",
    "plt.figure()\n",
    "plt.grid()\n",
    "plt.hist(X[np.where(y==0),0][0],12)\n",
    "plt.hist(X[np.where(y==1),0][0],12)\n",
    "plt.hist(X[np.where(y==2),0][0],12)\n",
    "plt.figure()\n",
    "plt.grid()\n",
    "plt.hist(X[np.where(y==0),1][0],12)\n",
    "plt.hist(X[np.where(y==1),1][0],12)\n",
    "plt.hist(X[np.where(y==2),1][0],12)\n",
    "plt.figure()\n",
    "\n",
    "plt.grid()\n",
    "plt.hist(X[np.where(y==0),2][0],12)\n",
    "plt.hist(X[np.where(y==1),2][0],12)\n",
    "plt.hist(X[np.where(y==2),2][0],12)\n",
    "plt.figure()\n",
    "\n",
    "plt.grid()\n",
    "plt.hist(X[np.where(y==0),3][0],12)\n",
    "plt.hist(X[np.where(y==1),3][0],12)\n",
    "plt.hist(X[np.where(y==2),3][0],12)\n"
   ]
  },
  {
   "cell_type": "code",
   "execution_count": 18,
   "metadata": {
    "collapsed": false
   },
   "outputs": [
    {
     "data": {
      "text/plain": [
       "(50L,)"
      ]
     },
     "execution_count": 18,
     "metadata": {},
     "output_type": "execute_result"
    }
   ],
   "source": [
    "shape(X[np.where(y==0),1][0])"
   ]
  },
  {
   "cell_type": "markdown",
   "metadata": {},
   "source": [
    "#Supervised Learning"
   ]
  },
  {
   "cell_type": "code",
   "execution_count": 28,
   "metadata": {
    "collapsed": false
   },
   "outputs": [
    {
     "name": "stdout",
     "output_type": "stream",
     "text": [
      "             precision    recall  f1-score   support\n",
      "\n",
      "          0       1.00      1.00      1.00        19\n",
      "          1       0.94      1.00      0.97        15\n",
      "          2       1.00      0.94      0.97        16\n",
      "\n",
      "avg / total       0.98      0.98      0.98        50\n",
      "\n",
      "             precision    recall  f1-score   support\n",
      "\n",
      "          0       1.00      1.00      1.00        19\n",
      "          1       0.94      1.00      0.97        15\n",
      "          2       1.00      0.94      0.97        16\n",
      "\n",
      "avg / total       0.98      0.98      0.98        50\n",
      "\n",
      "             precision    recall  f1-score   support\n",
      "\n",
      "          0       1.00      1.00      1.00        19\n",
      "          1       1.00      1.00      1.00        15\n",
      "          2       1.00      1.00      1.00        16\n",
      "\n",
      "avg / total       1.00      1.00      1.00        50\n",
      "\n",
      "             precision    recall  f1-score   support\n",
      "\n",
      "          0       1.00      1.00      1.00        19\n",
      "          1       0.94      1.00      0.97        15\n",
      "          2       1.00      0.94      0.97        16\n",
      "\n",
      "avg / total       0.98      0.98      0.98        50\n",
      "\n",
      "             precision    recall  f1-score   support\n",
      "\n",
      "          0       1.00      1.00      1.00        19\n",
      "          1       0.94      1.00      0.97        15\n",
      "          2       1.00      0.94      0.97        16\n",
      "\n",
      "avg / total       0.98      0.98      0.98        50\n",
      "\n",
      "             precision    recall  f1-score   support\n",
      "\n",
      "          0       1.00      1.00      1.00        19\n",
      "          1       0.94      1.00      0.97        15\n",
      "          2       1.00      0.94      0.97        16\n",
      "\n",
      "avg / total       0.98      0.98      0.98        50\n",
      "\n",
      "             precision    recall  f1-score   support\n",
      "\n",
      "          0       0.00      0.00      0.00        19\n",
      "          1       0.00      0.00      0.00        15\n",
      "          2       0.00      0.00      0.00        16\n",
      "\n",
      "avg / total       0.00      0.00      0.00        50\n",
      "\n"
     ]
    }
   ],
   "source": [
    "from sklearn.neighbors import KNeighborsClassifier\n",
    "from sklearn.svm import SVC\n",
    "from sklearn.tree import DecisionTreeClassifier\n",
    "from sklearn.ensemble import RandomForestClassifier, AdaBoostClassifier\n",
    "from sklearn.naive_bayes import GaussianNB\n",
    "from sklearn.metrics import classification_report\n",
    "from sklearn.svm import LinearSVC\n",
    "from sklearn.mixture import GMM\n",
    "\n",
    "knn = KNeighborsClassifier(n_neighbors=3)\n",
    "dtree = DecisionTreeClassifier(max_depth=3)\n",
    "svc=SVC()\n",
    "rdm=RandomForestClassifier(n_estimators=10, criterion='gini', min_samples_split=1,random_state =5)\n",
    "ada=AdaBoostClassifier()\n",
    "lsvc=LinearSVC()\n",
    "\n",
    "knn.fit(X_train, y_train) #обучили\n",
    "y_pred_s= knn.predict(X_test)\n",
    "print(classification_report(y_test, y_pred_s))\n",
    "\n",
    "dtree.fit(X_train, y_train) #обучили\n",
    "y_pred_s= dtree.predict(X_test)\n",
    "print(classification_report(y_test, y_pred_s))\n",
    "\n",
    "svc.fit(X_train, y_train) #обучили\n",
    "y_pred_s= svc.predict(X_test)\n",
    "print(classification_report(y_test, y_pred_s))\n",
    "\n",
    "rdm.fit(X_train, y_train) #обучили\n",
    "y_pred_s= rdm.predict(X_test)\n",
    "print(classification_report(y_test, y_pred_s))\n",
    "\n",
    "ada.fit(X_train, y_train) #обучили\n",
    "y_pred_s= ada.predict(X_test)\n",
    "print(classification_report(y_test, y_pred_s))\n",
    "    \n",
    "\n",
    "lsvc.fit(X_train, y_train) #обучили\n",
    "y_pred_s= lsvc.predict(X_test)\n",
    "print(classification_report(y_test, y_pred_s))\n",
    "\n",
    "gmm =  GMM(n_components=2  , covariance_type='full', init_params='wc', n_iter=20000)\n",
    "gmm.fit(X_train, y_train) #обучили\n",
    "y_pred_s= gmm.predict(X_test)\n",
    "print(classification_report(y_test, y_pred_s))\n"
   ]
  },
  {
   "cell_type": "markdown",
   "metadata": {},
   "source": [
    "#Random "
   ]
  },
  {
   "cell_type": "code",
   "execution_count": 29,
   "metadata": {
    "collapsed": false
   },
   "outputs": [
    {
     "name": "stdout",
     "output_type": "stream",
     "text": [
      "             precision    recall  f1-score   support\n",
      "\n",
      "          0       1.00      1.00      1.00        19\n",
      "          1       0.94      1.00      0.97        15\n",
      "          2       1.00      0.94      0.97        16\n",
      "\n",
      "avg / total       0.98      0.98      0.98        50\n",
      "\n",
      "Feature ranking:\n",
      "1. feature 3 (0.661516)\n",
      "2. feature 2 (0.289037)\n",
      "3. feature 0 (0.032927)\n",
      "4. feature 1 (0.016520)\n"
     ]
    }
   ],
   "source": [
    "rdm=RandomForestClassifier(n_estimators=10, criterion='gini', min_samples_split=1,random_state =10)\n",
    "\n",
    "rdm.fit(X_train, y_train) #обучили\n",
    "y_pred_s= rdm.predict(X_test)\n",
    "print(classification_report(y_test, y_pred_s))\n",
    "\n",
    "importances = rdm.feature_importances_\n",
    "importances\n",
    "indices = np.argsort(importances)[::-1]\n",
    "# Print the feature ranking\n",
    "print(\"Feature ranking:\")\n",
    "\n",
    "for f in range(X.shape[1]):\n",
    "    print(\"%d. feature %d (%f)\" % (f + 1, indices[f], importances[indices[f]]))"
   ]
  },
  {
   "cell_type": "code",
   "execution_count": 31,
   "metadata": {
    "collapsed": false
   },
   "outputs": [
    {
     "data": {
      "text/plain": [
       "array([3, 2, 0, 1], dtype=int64)"
      ]
     },
     "execution_count": 31,
     "metadata": {},
     "output_type": "execute_result"
    }
   ],
   "source": [
    "indices"
   ]
  },
  {
   "cell_type": "code",
   "execution_count": 27,
   "metadata": {
    "collapsed": false
   },
   "outputs": [
    {
     "name": "stdout",
     "output_type": "stream",
     "text": [
      "             precision    recall  f1-score   support\n",
      "\n",
      "          0       1.00      1.00      1.00        19\n",
      "          1       1.00      1.00      1.00        15\n",
      "          2       1.00      1.00      1.00        16\n",
      "\n",
      "avg / total       1.00      1.00      1.00        50\n",
      "\n",
      "Feature ranking:\n",
      "1. feature 2 (0.445898)\n",
      "2. feature 3 (0.283756)\n",
      "3. feature 0 (0.237980)\n",
      "4. feature 1 (0.032367)\n"
     ]
    }
   ],
   "source": [
    "rdm=RandomForestClassifier(n_estimators=10, criterion='gini', min_samples_split=1,random_state =1)\n",
    "\n",
    "rdm.fit(X_train, y_train) #обучили\n",
    "y_pred_s= rdm.predict(X_test)\n",
    "print(classification_report(y_test, y_pred_s))\n",
    "\n",
    "importances = rdm.feature_importances_\n",
    "importances\n",
    "indices = np.argsort(importances)[::-1]\n",
    "# Print the feature ranking\n",
    "print(\"Feature ranking:\")\n",
    "\n",
    "for f in range(X.shape[1]):\n",
    "    print(\"%d. feature %d (%f)\" % (f + 1, indices[f], importances[indices[f]]))"
   ]
  },
  {
   "cell_type": "markdown",
   "metadata": {},
   "source": [
    "#Feature selections"
   ]
  },
  {
   "cell_type": "markdown",
   "metadata": {},
   "source": [
    "#Random Forest"
   ]
  },
  {
   "cell_type": "code",
   "execution_count": 29,
   "metadata": {
    "collapsed": false
   },
   "outputs": [
    {
     "name": "stdout",
     "output_type": "stream",
     "text": [
      "Feature ranking:\n",
      "1. feature 2 (0.445898)\n",
      "2. feature 3 (0.283756)\n",
      "3. feature 0 (0.237980)\n",
      "4. feature 1 (0.032367)\n"
     ]
    }
   ],
   "source": [
    "importances = rdm.feature_importances_\n",
    "importances\n",
    "indices = np.argsort(importances)[::-1]\n",
    "# Print the feature ranking\n",
    "print(\"Feature ranking:\")\n",
    "\n",
    "for f in range(X.shape[1]):\n",
    "    print(\"%d. feature %d (%f)\" % (f + 1, indices[f], importances[indices[f]]))"
   ]
  },
  {
   "cell_type": "markdown",
   "metadata": {},
   "source": [
    "#Linear SVC"
   ]
  },
  {
   "cell_type": "code",
   "execution_count": 30,
   "metadata": {
    "collapsed": false
   },
   "outputs": [
    {
     "name": "stdout",
     "output_type": "stream",
     "text": [
      "Feature ranking:\n",
      "[[ 0.18424191  0.45122953 -0.80794516 -0.45071529]\n",
      " [ 0.00594471 -0.89720366  0.38622345 -0.84553233]\n",
      " [-0.71773485 -1.21978027  1.28091235  1.70482743]]\n",
      "[ 0.54912374  2.49644639  2.44268039  3.82450573]\n"
     ]
    }
   ],
   "source": [
    "#coef_ = lsvc.coef_\n",
    "importances = lsvc.coef_\n",
    "importances\n",
    "indices = np.argsort(importances)[::-1]\n",
    "# Print the feature ranking\n",
    "print(\"Feature ranking:\")\n",
    "print importances\n",
    "print importances[0,:]*importances[0,:]+ importances[1,:]*importances[1,:]+ importances[2,:]*importances[2,:]\n",
    "\n"
   ]
  },
  {
   "cell_type": "markdown",
   "metadata": {},
   "source": [
    "The authors use square of weights (of attributes) as assigned by a linear kernel SVM as ranking metric for deciding the relevance of a particular attribute. This is one of the highly cited ways of selecting genes from microarray data.\n",
    "http://citeseerx.ist.psu.edu/viewdoc/download?doi=10.1.1.70.9598&rep=rep1&type=pdf"
   ]
  },
  {
   "cell_type": "markdown",
   "metadata": {},
   "source": [
    "#Select K Best"
   ]
  },
  {
   "cell_type": "code",
   "execution_count": 31,
   "metadata": {
    "collapsed": false
   },
   "outputs": [
    {
     "name": "stdout",
     "output_type": "stream",
     "text": [
      "[[ 4.2  1.3]\n",
      " [ 6.6  2.1]\n",
      " [ 4.5  1.5]\n",
      " [ 1.4  0.2]\n",
      " [ 6.7  2. ]\n",
      " [ 4.1  1. ]\n",
      " [ 1.4  0.2]\n",
      " [ 1.3  0.3]\n",
      " [ 1.9  0.4]\n",
      " [ 3.5  1. ]]\n",
      "[[ 5.7  2.9  4.2  1.3]\n",
      " [ 7.6  3.   6.6  2.1]\n",
      " [ 5.6  3.   4.5  1.5]\n",
      " [ 5.1  3.5  1.4  0.2]\n",
      " [ 7.7  2.8  6.7  2. ]\n",
      " [ 5.8  2.7  4.1  1. ]\n",
      " [ 5.2  3.4  1.4  0.2]\n",
      " [ 5.   3.5  1.3  0.3]\n",
      " [ 5.1  3.8  1.9  0.4]\n",
      " [ 5.   2.   3.5  1. ]]\n"
     ]
    }
   ],
   "source": [
    "from sklearn.feature_selection import SelectKBest, f_regression\n",
    "ch2 =  SelectKBest(f_regression, k=2)\n",
    "X_train_features = ch2.fit_transform(X_train, y_train)\n",
    "print X_train_features[:10]\n",
    "print X_train[:10]"
   ]
  },
  {
   "cell_type": "markdown",
   "metadata": {},
   "source": [
    "f_classif ANOVA F-value between labe/feature for classification tasks. <br>\n",
    "chi2 Chi-squared stats of non-negative features for classification tasks.  <br>\n",
    "f_regression F-value between label/feature for regression tasks.  <br>\n",
    "SelectPercentile Select features based on percentile of the highest scores.  <br>\n",
    "SelectFpr Select features based on a false positive rate test.  <br>\n",
    "SelectFdr Select features based on an estimated false discovery rate.  <br>\n",
    "SelectFwe Select features based on family-wise error rate.  <br>\n",
    "GenericUnivariateSelect Univariate feature selector with configurable mode."
   ]
  },
  {
   "cell_type": "markdown",
   "metadata": {},
   "source": [
    "#Grid Search"
   ]
  },
  {
   "cell_type": "code",
   "execution_count": 1,
   "metadata": {
    "collapsed": false
   },
   "outputs": [
    {
     "ename": "NameError",
     "evalue": "name 'KNeighborsClassifier' is not defined",
     "output_type": "error",
     "traceback": [
      "\u001b[1;31m---------------------------------------------------------------------------\u001b[0m",
      "\u001b[1;31mNameError\u001b[0m                                 Traceback (most recent call last)",
      "\u001b[1;32m<ipython-input-1-4ba5562d465b>\u001b[0m in \u001b[0;36m<module>\u001b[1;34m()\u001b[0m\n\u001b[0;32m      2\u001b[0m parameters = {'n_neighbors':[3,5,20],'weights':('uniform','distance'),\n\u001b[0;32m      3\u001b[0m               'algorithm':('ball_tree','kd_tree','brute'), 'p':[1,2,3]}\n\u001b[1;32m----> 4\u001b[1;33m \u001b[0mmodel\u001b[0m \u001b[1;33m=\u001b[0m \u001b[0mKNeighborsClassifier\u001b[0m\u001b[1;33m(\u001b[0m\u001b[1;33m)\u001b[0m\u001b[1;33m\u001b[0m\u001b[0m\n\u001b[0m\u001b[0;32m      5\u001b[0m \u001b[0mgrid\u001b[0m \u001b[1;33m=\u001b[0m \u001b[0mgrid_search\u001b[0m\u001b[1;33m.\u001b[0m\u001b[0mGridSearchCV\u001b[0m\u001b[1;33m(\u001b[0m\u001b[0mmodel\u001b[0m\u001b[1;33m,\u001b[0m \u001b[0mparam_grid\u001b[0m\u001b[1;33m=\u001b[0m\u001b[0mparameters\u001b[0m\u001b[1;33m,\u001b[0m\u001b[0mscoring\u001b[0m\u001b[1;33m=\u001b[0m\u001b[1;34m'accuracy'\u001b[0m\u001b[1;33m)\u001b[0m\u001b[1;33m\u001b[0m\u001b[0m\n\u001b[0;32m      6\u001b[0m \u001b[0mgrid\u001b[0m\u001b[1;33m.\u001b[0m\u001b[0mfit\u001b[0m\u001b[1;33m(\u001b[0m\u001b[0mX\u001b[0m\u001b[1;33m,\u001b[0m \u001b[0my\u001b[0m\u001b[1;33m)\u001b[0m\u001b[1;33m\u001b[0m\u001b[0m\n",
      "\u001b[1;31mNameError\u001b[0m: name 'KNeighborsClassifier' is not defined"
     ]
    }
   ],
   "source": [
    "from sklearn import  grid_search\n",
    "parameters = {'n_neighbors':[3,5,20],'weights':('uniform','distance'),\n",
    "              'algorithm':('ball_tree','kd_tree','brute'), 'p':[1,2,3]}\n",
    "model = KNeighborsClassifier()\n",
    "grid = grid_search.GridSearchCV(model, param_grid=parameters,scoring='accuracy')\n",
    "grid.fit(X, y)\n",
    "# summarize the results of the grid search\n",
    "print(grid.best_score_)\n",
    "print(grid.best_params_)"
   ]
  },
  {
   "cell_type": "markdown",
   "metadata": {},
   "source": [
    "#Cross Validation"
   ]
  },
  {
   "cell_type": "code",
   "execution_count": 145,
   "metadata": {
    "collapsed": false
   },
   "outputs": [
    {
     "name": "stdout",
     "output_type": "stream",
     "text": [
      "0.96\n",
      "0.0442216638714\n"
     ]
    }
   ],
   "source": [
    "from sklearn.cross_validation import cross_val_score\n",
    "from sklearn.cross_validation import KFold\n",
    "X=X\n",
    "y=y\n",
    "cv = KFold(n=len(y), n_folds=10, shuffle=True, random_state=123)\n",
    "\n",
    "clf = KNeighborsClassifier(n_neighbors=5,weights='uniform', algorithm='ball_tree', p=1)\n",
    "mae_folds = cross_val_score(clf, X, y, cv=cv, scoring='accuracy')\n",
    "print mae_folds.mean()\n",
    "print mae_folds.std()\n"
   ]
  },
  {
   "cell_type": "code",
   "execution_count": 147,
   "metadata": {
    "collapsed": false
   },
   "outputs": [
    {
     "name": "stdout",
     "output_type": "stream",
     "text": [
      "0.973333333333\n",
      "0.0326598632371\n"
     ]
    }
   ],
   "source": [
    "from sklearn.cross_validation import cross_val_score\n",
    "from sklearn.cross_validation import KFold\n",
    "X=X\n",
    "y=y\n",
    "cv = KFold(n=len(y), n_folds=10, shuffle=True, random_state=123)\n",
    "clf = svc\n",
    "mae_folds = cross_val_score(clf, X, y, cv=cv, scoring='accuracy')\n",
    "print mae_folds.mean()\n",
    "print mae_folds.std()\n"
   ]
  },
  {
   "cell_type": "code",
   "execution_count": 148,
   "metadata": {
    "collapsed": false
   },
   "outputs": [
    {
     "name": "stdout",
     "output_type": "stream",
     "text": [
      "0.933333333333\n",
      "0.0516397779494\n"
     ]
    }
   ],
   "source": [
    "from sklearn.cross_validation import cross_val_score\n",
    "from sklearn.cross_validation import KFold\n",
    "X=X\n",
    "y=y\n",
    "cv = KFold(n=len(y), n_folds=10, shuffle=True, random_state=123)\n",
    "clf = ada\n",
    "mae_folds = cross_val_score(clf, X, y, cv=cv, scoring='accuracy')\n",
    "print mae_folds.mean()\n",
    "print mae_folds.std()\n"
   ]
  },
  {
   "cell_type": "markdown",
   "metadata": {},
   "source": [
    "#Pipelines"
   ]
  },
  {
   "cell_type": "code",
   "execution_count": 34,
   "metadata": {
    "collapsed": false
   },
   "outputs": [
    {
     "data": {
      "text/plain": [
       "<function matplotlib.pyplot.clf>"
      ]
     },
     "execution_count": 34,
     "metadata": {},
     "output_type": "execute_result"
    }
   ],
   "source": [
    "from sklearn.pipeline import Pipeline\n",
    "from sklearn.decomposition import PCA\n",
    "from sklearn.svm import SVC\n",
    "estimators1 = [('reduce_dim', PCA(n_components=1)), ('svm', SVC())]\n",
    "estimators2 = [('reduce_dim', PCA()), ('svm', knn)]\n",
    "\n",
    "clf1 = Pipeline(estimators1)\n",
    "clf2 = Pipeline(estimators2)\n",
    "clf \n"
   ]
  },
  {
   "cell_type": "markdown",
   "metadata": {},
   "source": [
    "#The estimators of a pipeline are stored as a list in the steps attribute:\n"
   ]
  },
  {
   "cell_type": "code",
   "execution_count": 35,
   "metadata": {
    "collapsed": false
   },
   "outputs": [
    {
     "data": {
      "text/plain": [
       "Pipeline(steps=[('reduce_dim', PCA(copy=True, n_components=1, whiten=False)), ('svm', SVC(C=1.0, cache_size=200, class_weight=None, coef0=0.0, degree=3, gamma=0.0,\n",
       "  kernel='rbf', max_iter=-1, probability=False, random_state=None,\n",
       "  shrinking=True, tol=0.001, verbose=False))])"
      ]
     },
     "execution_count": 35,
     "metadata": {},
     "output_type": "execute_result"
    }
   ],
   "source": [
    "clf1"
   ]
  },
  {
   "cell_type": "markdown",
   "metadata": {},
   "source": [
    "#Parameters of the estimators in the pipeline can be accessed using the <estimator>__<parameter> syntax:"
   ]
  },
  {
   "cell_type": "code",
   "execution_count": 41,
   "metadata": {
    "collapsed": false
   },
   "outputs": [
    {
     "data": {
      "text/plain": [
       "Pipeline(steps=[('reduce_dim', PCA(copy=True, n_components=2, whiten=False)), ('svm', KNeighborsClassifier(algorithm='auto', leaf_size=30, metric='minkowski',\n",
       "           metric_params=None, n_neighbors=3, p=2, weights='uniform'))])"
      ]
     },
     "execution_count": 41,
     "metadata": {},
     "output_type": "execute_result"
    }
   ],
   "source": [
    "clf1.set_params(svm__C=10)\n",
    "clf2.set_params(reduce_dim__n_components=2)"
   ]
  },
  {
   "cell_type": "code",
   "execution_count": 42,
   "metadata": {
    "collapsed": false
   },
   "outputs": [
    {
     "name": "stdout",
     "output_type": "stream",
     "text": [
      "             precision    recall  f1-score   support\n",
      "\n",
      "          0       1.00      1.00      1.00        19\n",
      "          1       1.00      0.93      0.97        15\n",
      "          2       0.94      1.00      0.97        16\n",
      "\n",
      "avg / total       0.98      0.98      0.98        50\n",
      "\n"
     ]
    }
   ],
   "source": [
    "clf1.fit(X_train, y_train) #обучили\n",
    "y_pred_s= clf1.predict(X_test)\n",
    "print(classification_report(y_test, y_pred_s))"
   ]
  },
  {
   "cell_type": "code",
   "execution_count": 60,
   "metadata": {
    "collapsed": false
   },
   "outputs": [
    {
     "name": "stdout",
     "output_type": "stream",
     "text": [
      "             precision    recall  f1-score   support\n",
      "\n",
      "          0       1.00      1.00      1.00        19\n",
      "          1       0.94      1.00      0.97        15\n",
      "          2       1.00      0.94      0.97        16\n",
      "\n",
      "avg / total       0.98      0.98      0.98        50\n",
      "\n"
     ]
    }
   ],
   "source": [
    "knn.fit(X_train, y_train) #обучили\n",
    "y_pred_s= knn.predict(X_test)\n",
    "print(classification_report(y_test, y_pred_s))"
   ]
  },
  {
   "cell_type": "code",
   "execution_count": 61,
   "metadata": {
    "collapsed": false
   },
   "outputs": [
    {
     "data": {
      "text/plain": [
       "KNeighborsClassifier(algorithm='auto', leaf_size=30, metric='minkowski',\n",
       "           metric_params=None, n_neighbors=3, p=2, weights='uniform')"
      ]
     },
     "execution_count": 61,
     "metadata": {},
     "output_type": "execute_result"
    }
   ],
   "source": [
    "knn"
   ]
  }
 ],
 "metadata": {
  "kernelspec": {
   "display_name": "Python 2",
   "language": "python",
   "name": "python2"
  },
  "language_info": {
   "codemirror_mode": {
    "name": "ipython",
    "version": 2
   },
   "file_extension": ".py",
   "mimetype": "text/x-python",
   "name": "python",
   "nbconvert_exporter": "python",
   "pygments_lexer": "ipython2",
   "version": "2.7.10"
  }
 },
 "nbformat": 4,
 "nbformat_minor": 0
}
